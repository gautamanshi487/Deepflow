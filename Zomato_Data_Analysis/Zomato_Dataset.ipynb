{
 "cells": [
  {
   "cell_type": "code",
   "execution_count": 90,
   "id": "3ea0ba12-20ba-43ce-88c3-99a0e169fc8a",
   "metadata": {},
   "outputs": [],
   "source": [
    "import numpy as np\n",
    "import pandas as pd\n",
    "import matplotlib.pyplot as plt\n"
   ]
  },
  {
   "cell_type": "markdown",
   "id": "e6ea0053-75d6-409f-80a4-4b182cc6d27b",
   "metadata": {},
   "source": [
    "Load the Zomato dataset using Pandas.\n",
    "\n",
    "\n"
   ]
  },
  {
   "cell_type": "code",
   "execution_count": 91,
   "id": "2e171aa4-f3a5-4101-8b5c-09555c5f8bf1",
   "metadata": {},
   "outputs": [],
   "source": [
    "zomato_data = pd.read_csv('C:/Users/hp/Desktop/ML/Deepflow Project/data.csv')"
   ]
  },
  {
   "cell_type": "markdown",
   "id": "75cb3553-dab5-4553-a953-6d56ef8b3ca2",
   "metadata": {},
   "source": [
    "Inspect the dataset and understand its structure.\n",
    "\n",
    "\n"
   ]
  },
  {
   "cell_type": "code",
   "execution_count": 92,
   "id": "d0556c98-6ad7-4d04-8935-11841b16920e",
   "metadata": {},
   "outputs": [
    {
     "data": {
      "text/plain": [
       "(41263, 11)"
      ]
     },
     "execution_count": 92,
     "metadata": {},
     "output_type": "execute_result"
    }
   ],
   "source": [
    "zomato_data.shape"
   ]
  },
  {
   "cell_type": "code",
   "execution_count": 93,
   "id": "d70002e5-ec3d-483c-9cde-92ad7a323f2c",
   "metadata": {},
   "outputs": [
    {
     "data": {
      "text/html": [
       "<div>\n",
       "<style scoped>\n",
       "    .dataframe tbody tr th:only-of-type {\n",
       "        vertical-align: middle;\n",
       "    }\n",
       "\n",
       "    .dataframe tbody tr th {\n",
       "        vertical-align: top;\n",
       "    }\n",
       "\n",
       "    .dataframe thead th {\n",
       "        text-align: right;\n",
       "    }\n",
       "</style>\n",
       "<table border=\"1\" class=\"dataframe\">\n",
       "  <thead>\n",
       "    <tr style=\"text-align: right;\">\n",
       "      <th></th>\n",
       "      <th>name</th>\n",
       "      <th>online_order</th>\n",
       "      <th>book_table</th>\n",
       "      <th>Rating</th>\n",
       "      <th>votes</th>\n",
       "      <th>location</th>\n",
       "      <th>rest_type</th>\n",
       "      <th>cuisines</th>\n",
       "      <th>approx_cost(for two people)</th>\n",
       "      <th>listed_in(type)</th>\n",
       "      <th>listed_in(city)</th>\n",
       "    </tr>\n",
       "  </thead>\n",
       "  <tbody>\n",
       "    <tr>\n",
       "      <th>0</th>\n",
       "      <td>Jalsa</td>\n",
       "      <td>Yes</td>\n",
       "      <td>Yes</td>\n",
       "      <td>4.1</td>\n",
       "      <td>775</td>\n",
       "      <td>Banashankari</td>\n",
       "      <td>Casual Dining</td>\n",
       "      <td>North Indian, Mughlai, Chinese</td>\n",
       "      <td>800</td>\n",
       "      <td>Buffet</td>\n",
       "      <td>Banashankari</td>\n",
       "    </tr>\n",
       "    <tr>\n",
       "      <th>1</th>\n",
       "      <td>Spice Elephant</td>\n",
       "      <td>Yes</td>\n",
       "      <td>No</td>\n",
       "      <td>4.1</td>\n",
       "      <td>787</td>\n",
       "      <td>Banashankari</td>\n",
       "      <td>Casual Dining</td>\n",
       "      <td>Chinese, North Indian, Thai</td>\n",
       "      <td>800</td>\n",
       "      <td>Buffet</td>\n",
       "      <td>Banashankari</td>\n",
       "    </tr>\n",
       "    <tr>\n",
       "      <th>2</th>\n",
       "      <td>San Churro Cafe</td>\n",
       "      <td>Yes</td>\n",
       "      <td>No</td>\n",
       "      <td>3.8</td>\n",
       "      <td>918</td>\n",
       "      <td>Banashankari</td>\n",
       "      <td>Cafe, Casual Dining</td>\n",
       "      <td>Cafe, Mexican, Italian</td>\n",
       "      <td>800</td>\n",
       "      <td>Buffet</td>\n",
       "      <td>Banashankari</td>\n",
       "    </tr>\n",
       "    <tr>\n",
       "      <th>3</th>\n",
       "      <td>Addhuri Udupi Bhojana</td>\n",
       "      <td>No</td>\n",
       "      <td>No</td>\n",
       "      <td>3.7</td>\n",
       "      <td>88</td>\n",
       "      <td>Banashankari</td>\n",
       "      <td>Quick Bites</td>\n",
       "      <td>South Indian, North Indian</td>\n",
       "      <td>300</td>\n",
       "      <td>Buffet</td>\n",
       "      <td>Banashankari</td>\n",
       "    </tr>\n",
       "    <tr>\n",
       "      <th>4</th>\n",
       "      <td>Grand Village</td>\n",
       "      <td>No</td>\n",
       "      <td>No</td>\n",
       "      <td>3.8</td>\n",
       "      <td>166</td>\n",
       "      <td>Basavanagudi</td>\n",
       "      <td>Casual Dining</td>\n",
       "      <td>North Indian, Rajasthani</td>\n",
       "      <td>600</td>\n",
       "      <td>Buffet</td>\n",
       "      <td>Banashankari</td>\n",
       "    </tr>\n",
       "  </tbody>\n",
       "</table>\n",
       "</div>"
      ],
      "text/plain": [
       "                    name online_order book_table  Rating  votes      location  \\\n",
       "0                  Jalsa          Yes        Yes     4.1    775  Banashankari   \n",
       "1         Spice Elephant          Yes         No     4.1    787  Banashankari   \n",
       "2        San Churro Cafe          Yes         No     3.8    918  Banashankari   \n",
       "3  Addhuri Udupi Bhojana           No         No     3.7     88  Banashankari   \n",
       "4          Grand Village           No         No     3.8    166  Basavanagudi   \n",
       "\n",
       "             rest_type                        cuisines  \\\n",
       "0        Casual Dining  North Indian, Mughlai, Chinese   \n",
       "1        Casual Dining     Chinese, North Indian, Thai   \n",
       "2  Cafe, Casual Dining          Cafe, Mexican, Italian   \n",
       "3          Quick Bites      South Indian, North Indian   \n",
       "4        Casual Dining        North Indian, Rajasthani   \n",
       "\n",
       "   approx_cost(for two people) listed_in(type) listed_in(city)  \n",
       "0                          800          Buffet    Banashankari  \n",
       "1                          800          Buffet    Banashankari  \n",
       "2                          800          Buffet    Banashankari  \n",
       "3                          300          Buffet    Banashankari  \n",
       "4                          600          Buffet    Banashankari  "
      ]
     },
     "execution_count": 93,
     "metadata": {},
     "output_type": "execute_result"
    }
   ],
   "source": [
    "zomato_data.head()"
   ]
  },
  {
   "cell_type": "code",
   "execution_count": 94,
   "id": "95cf2707-b08f-4d83-a6ac-1d41a11a4c46",
   "metadata": {},
   "outputs": [
    {
     "data": {
      "text/plain": [
       "name                           0\n",
       "online_order                   0\n",
       "book_table                     0\n",
       "Rating                         0\n",
       "votes                          0\n",
       "location                       0\n",
       "rest_type                      0\n",
       "cuisines                       0\n",
       "approx_cost(for two people)    0\n",
       "listed_in(type)                0\n",
       "listed_in(city)                0\n",
       "dtype: int64"
      ]
     },
     "execution_count": 94,
     "metadata": {},
     "output_type": "execute_result"
    }
   ],
   "source": [
    "zomato_data.isnull().sum()"
   ]
  },
  {
   "cell_type": "code",
   "execution_count": 95,
   "id": "463ddc04-814f-4542-a072-03e09ece19dd",
   "metadata": {},
   "outputs": [
    {
     "data": {
      "text/plain": [
       "73"
      ]
     },
     "execution_count": 95,
     "metadata": {},
     "output_type": "execute_result"
    }
   ],
   "source": [
    "zomato_data.duplicated().sum()"
   ]
  },
  {
   "cell_type": "code",
   "execution_count": 96,
   "id": "36b7f6d6-3f76-4393-bd65-cad4dd2e9e07",
   "metadata": {},
   "outputs": [
    {
     "name": "stdout",
     "output_type": "stream",
     "text": [
      "                                  name online_order book_table  Rating  votes  \\\n",
      "1758                        Shiv Sagar           No         No     3.6     10   \n",
      "3024             The Fisherman's Wharf          Yes        Yes     4.4   4099   \n",
      "3941                         OPUS Club           No        Yes     4.4   1496   \n",
      "3942                             Float          Yes        Yes     4.4   3061   \n",
      "3960                             Float          Yes        Yes     4.4   3061   \n",
      "...                                ...          ...        ...     ...    ...   \n",
      "34974  Alchemy - The Chancery Pavilion           No        Yes     4.3    485   \n",
      "36763    Tipsy Bull - The Bar Exchange           No        Yes     4.6   3173   \n",
      "36764       BTDT? Been There Done That           No        Yes     4.3    962   \n",
      "38988                     ShakesBierre           No        Yes     4.4    409   \n",
      "39373        Sri Ganesh Juice Junction          Yes         No     3.5      6   \n",
      "\n",
      "                location                    rest_type  \\\n",
      "1758   Bannerghatta Road                   Food Court   \n",
      "3024       Sarjapur Road           Casual Dining, Bar   \n",
      "3941       Sarjapur Road                          Pub   \n",
      "3942        Marathahalli           Casual Dining, Bar   \n",
      "3960        Marathahalli           Casual Dining, Bar   \n",
      "...                  ...                          ...   \n",
      "34974     Residency Road  Microbrewery, Casual Dining   \n",
      "36763        Indiranagar           Bar, Casual Dining   \n",
      "36764        Indiranagar           Bar, Casual Dining   \n",
      "38988       Brigade Road  Microbrewery, Casual Dining   \n",
      "39373          Bellandur                Beverage Shop   \n",
      "\n",
      "                                              cuisines  \\\n",
      "1758                           South Indian, Beverages   \n",
      "3024   Seafood, Goan, North Indian, Continental, Asian   \n",
      "3941       Continental, Italian, North Indian, Mexican   \n",
      "3942                            North Indian, Japanese   \n",
      "3960                            North Indian, Japanese   \n",
      "...                                                ...   \n",
      "34974                                    Modern Indian   \n",
      "36763      Chinese, Continental, North Indian, Mexican   \n",
      "36764        European, Continental, Asian, Finger Food   \n",
      "38988       Asian, Continental, European, North Indian   \n",
      "39373                                Juices, Fast Food   \n",
      "\n",
      "       approx_cost(for two people)     listed_in(type)    listed_in(city)  \n",
      "1758                           400            Dine-out  Bannerghatta Road  \n",
      "3024                          1400              Buffet          Bellandur  \n",
      "3941                          1900  Drinks & nightlife          Bellandur  \n",
      "3942                          1500  Drinks & nightlife          Bellandur  \n",
      "3960                          1500       Pubs and bars          Bellandur  \n",
      "...                            ...                 ...                ...  \n",
      "34974                         2000  Drinks & nightlife            MG Road  \n",
      "36763                         1400  Drinks & nightlife   Old Airport Road  \n",
      "36764                         1300  Drinks & nightlife   Old Airport Road  \n",
      "38988                         1500  Drinks & nightlife     Residency Road  \n",
      "39373                          200            Delivery      Sarjapur Road  \n",
      "\n",
      "[73 rows x 11 columns]\n"
     ]
    }
   ],
   "source": [
    "duplicates = zomato_data[zomato_data.duplicated()]\n",
    "print(duplicates)"
   ]
  },
  {
   "cell_type": "code",
   "execution_count": 97,
   "id": "d5a4f4f8-f054-409d-abf8-1f28efe2125c",
   "metadata": {},
   "outputs": [],
   "source": [
    "zomato_data = zomato_data.drop_duplicates()"
   ]
  },
  {
   "cell_type": "code",
   "execution_count": 98,
   "id": "18cd5f63-fc4a-4a5c-a169-895bdaf9f26a",
   "metadata": {},
   "outputs": [
    {
     "data": {
      "text/plain": [
       "0"
      ]
     },
     "execution_count": 98,
     "metadata": {},
     "output_type": "execute_result"
    }
   ],
   "source": [
    "zomato_data.duplicated().sum()"
   ]
  },
  {
   "cell_type": "code",
   "execution_count": 99,
   "id": "f0dda691-6b89-4b16-8eb7-497d841a7c6f",
   "metadata": {},
   "outputs": [
    {
     "name": "stdout",
     "output_type": "stream",
     "text": [
      "name                            object\n",
      "online_order                    object\n",
      "book_table                      object\n",
      "Rating                         float64\n",
      "votes                            int64\n",
      "location                        object\n",
      "rest_type                       object\n",
      "cuisines                        object\n",
      "approx_cost(for two people)      int64\n",
      "listed_in(type)                 object\n",
      "listed_in(city)                 object\n",
      "dtype: object\n"
     ]
    }
   ],
   "source": [
    "print(zomato_data.dtypes)"
   ]
  },
  {
   "cell_type": "markdown",
   "id": "9200a906-e81a-45d4-8bb6-e9ea8293322c",
   "metadata": {},
   "source": [
    "Correct inconsistent data formats"
   ]
  },
  {
   "cell_type": "code",
   "execution_count": 100,
   "id": "c7a47df5-baf9-4426-8162-a1f07f71b77c",
   "metadata": {},
   "outputs": [
    {
     "data": {
      "text/plain": [
       "['name',\n",
       " 'online_order',\n",
       " 'book_table',\n",
       " 'Rating',\n",
       " 'votes',\n",
       " 'location',\n",
       " 'rest_type',\n",
       " 'cuisines',\n",
       " 'approx_cost(for two people)',\n",
       " 'listed_in(type)',\n",
       " 'listed_in(city)']"
      ]
     },
     "execution_count": 100,
     "metadata": {},
     "output_type": "execute_result"
    }
   ],
   "source": [
    "zomato_data.columns.tolist()"
   ]
  },
  {
   "cell_type": "code",
   "execution_count": 101,
   "id": "236ae6de-2abe-4728-b3b6-5a02be4c5d09",
   "metadata": {},
   "outputs": [
    {
     "data": {
      "text/html": [
       "<div>\n",
       "<style scoped>\n",
       "    .dataframe tbody tr th:only-of-type {\n",
       "        vertical-align: middle;\n",
       "    }\n",
       "\n",
       "    .dataframe tbody tr th {\n",
       "        vertical-align: top;\n",
       "    }\n",
       "\n",
       "    .dataframe thead th {\n",
       "        text-align: right;\n",
       "    }\n",
       "</style>\n",
       "<table border=\"1\" class=\"dataframe\">\n",
       "  <thead>\n",
       "    <tr style=\"text-align: right;\">\n",
       "      <th></th>\n",
       "      <th>name</th>\n",
       "      <th>online_order</th>\n",
       "      <th>book_table</th>\n",
       "      <th>Rating</th>\n",
       "      <th>votes</th>\n",
       "      <th>location</th>\n",
       "      <th>rest_type</th>\n",
       "      <th>cuisines</th>\n",
       "      <th>approx_cost(for two people)</th>\n",
       "      <th>listed_in(type)</th>\n",
       "      <th>listed_in(city)</th>\n",
       "    </tr>\n",
       "  </thead>\n",
       "  <tbody>\n",
       "    <tr>\n",
       "      <th>0</th>\n",
       "      <td>Jalsa</td>\n",
       "      <td>Yes</td>\n",
       "      <td>Yes</td>\n",
       "      <td>4.1</td>\n",
       "      <td>775</td>\n",
       "      <td>Banashankari</td>\n",
       "      <td>Casual Dining</td>\n",
       "      <td>North Indian, Mughlai, Chinese</td>\n",
       "      <td>800</td>\n",
       "      <td>Buffet</td>\n",
       "      <td>Banashankari</td>\n",
       "    </tr>\n",
       "    <tr>\n",
       "      <th>1</th>\n",
       "      <td>Spice Elephant</td>\n",
       "      <td>Yes</td>\n",
       "      <td>No</td>\n",
       "      <td>4.1</td>\n",
       "      <td>787</td>\n",
       "      <td>Banashankari</td>\n",
       "      <td>Casual Dining</td>\n",
       "      <td>Chinese, North Indian, Thai</td>\n",
       "      <td>800</td>\n",
       "      <td>Buffet</td>\n",
       "      <td>Banashankari</td>\n",
       "    </tr>\n",
       "    <tr>\n",
       "      <th>2</th>\n",
       "      <td>San Churro Cafe</td>\n",
       "      <td>Yes</td>\n",
       "      <td>No</td>\n",
       "      <td>3.8</td>\n",
       "      <td>918</td>\n",
       "      <td>Banashankari</td>\n",
       "      <td>Cafe, Casual Dining</td>\n",
       "      <td>Cafe, Mexican, Italian</td>\n",
       "      <td>800</td>\n",
       "      <td>Buffet</td>\n",
       "      <td>Banashankari</td>\n",
       "    </tr>\n",
       "    <tr>\n",
       "      <th>3</th>\n",
       "      <td>Addhuri Udupi Bhojana</td>\n",
       "      <td>No</td>\n",
       "      <td>No</td>\n",
       "      <td>3.7</td>\n",
       "      <td>88</td>\n",
       "      <td>Banashankari</td>\n",
       "      <td>Quick Bites</td>\n",
       "      <td>South Indian, North Indian</td>\n",
       "      <td>300</td>\n",
       "      <td>Buffet</td>\n",
       "      <td>Banashankari</td>\n",
       "    </tr>\n",
       "    <tr>\n",
       "      <th>4</th>\n",
       "      <td>Grand Village</td>\n",
       "      <td>No</td>\n",
       "      <td>No</td>\n",
       "      <td>3.8</td>\n",
       "      <td>166</td>\n",
       "      <td>Basavanagudi</td>\n",
       "      <td>Casual Dining</td>\n",
       "      <td>North Indian, Rajasthani</td>\n",
       "      <td>600</td>\n",
       "      <td>Buffet</td>\n",
       "      <td>Banashankari</td>\n",
       "    </tr>\n",
       "  </tbody>\n",
       "</table>\n",
       "</div>"
      ],
      "text/plain": [
       "                    name online_order book_table  Rating  votes      location  \\\n",
       "0                  Jalsa          Yes        Yes     4.1    775  Banashankari   \n",
       "1         Spice Elephant          Yes         No     4.1    787  Banashankari   \n",
       "2        San Churro Cafe          Yes         No     3.8    918  Banashankari   \n",
       "3  Addhuri Udupi Bhojana           No         No     3.7     88  Banashankari   \n",
       "4          Grand Village           No         No     3.8    166  Basavanagudi   \n",
       "\n",
       "             rest_type                        cuisines  \\\n",
       "0        Casual Dining  North Indian, Mughlai, Chinese   \n",
       "1        Casual Dining     Chinese, North Indian, Thai   \n",
       "2  Cafe, Casual Dining          Cafe, Mexican, Italian   \n",
       "3          Quick Bites      South Indian, North Indian   \n",
       "4        Casual Dining        North Indian, Rajasthani   \n",
       "\n",
       "   approx_cost(for two people) listed_in(type) listed_in(city)  \n",
       "0                          800          Buffet    Banashankari  \n",
       "1                          800          Buffet    Banashankari  \n",
       "2                          800          Buffet    Banashankari  \n",
       "3                          300          Buffet    Banashankari  \n",
       "4                          600          Buffet    Banashankari  "
      ]
     },
     "execution_count": 101,
     "metadata": {},
     "output_type": "execute_result"
    }
   ],
   "source": [
    "zomato_data.head()"
   ]
  },
  {
   "cell_type": "markdown",
   "id": "5d3928ff-cf46-41b8-bfbc-f9b07a8acd5c",
   "metadata": {},
   "source": [
    "Standardise key columns like ratings, price, and location.\n",
    "\n",
    "\n"
   ]
  },
  {
   "cell_type": "code",
   "execution_count": 102,
   "id": "27beed79-c474-49d7-a054-241064ce5ba1",
   "metadata": {},
   "outputs": [],
   "source": [
    "zomato_data['cuisines'] = (\n",
    "    zomato_data['cuisines']\n",
    "    .astype(str)\n",
    "    .str.lower()\n",
    "    .str.replace(';', ',', regex=False)\n",
    "    .str.replace('&', 'and', regex=False)\n",
    "    .str.replace(r'\\s*,\\s*', ',', regex=True)\n",
    "    .str.strip()\n",
    ")"
   ]
  },
  {
   "cell_type": "code",
   "execution_count": 103,
   "id": "45fca6b7-c482-4a9b-a62c-9a9755a12f9a",
   "metadata": {},
   "outputs": [],
   "source": [
    "zomato_data['location'] = zomato_data['location'].astype(str).str.strip().str.title()"
   ]
  },
  {
   "cell_type": "code",
   "execution_count": 104,
   "id": "fceacbcd-6cde-4f3d-9064-491b4bdfddc5",
   "metadata": {},
   "outputs": [],
   "source": [
    "zomato_data['online_order'] = zomato_data['online_order'].astype(str).str.strip().str.title()\n",
    "zomato_data['book_table'] = zomato_data['book_table'].astype(str).str.strip().str.title()"
   ]
  },
  {
   "cell_type": "code",
   "execution_count": 105,
   "id": "dbb30486-2015-4cf0-ba2d-8b2cfbc1c6d8",
   "metadata": {},
   "outputs": [],
   "source": [
    "zomato_data['approx_cost(for two people)'] = zomato_data['approx_cost(for two people)'].astype(str).str.replace(',', '')\n",
    "zomato_data['approx_cost(for two people)'] = pd.to_numeric(zomato_data['approx_cost(for two people)'], errors='coerce')"
   ]
  },
  {
   "cell_type": "code",
   "execution_count": 106,
   "id": "61ebfb3c-a9a0-475b-b327-ada1602ad9ba",
   "metadata": {},
   "outputs": [],
   "source": [
    "zomato_data['Rating'] = pd.to_numeric(zomato_data['Rating'], errors='coerce')"
   ]
  },
  {
   "cell_type": "code",
   "execution_count": 107,
   "id": "fe39939c-a3e3-4c6e-baee-ee20011749da",
   "metadata": {},
   "outputs": [],
   "source": [
    "zomato_data['votes'] = pd.to_numeric(zomato_data['votes'], errors='coerce').fillna(0).astype(int)"
   ]
  },
  {
   "cell_type": "code",
   "execution_count": 108,
   "id": "cc65ae98-025f-4764-9305-bf16282e797b",
   "metadata": {},
   "outputs": [
    {
     "name": "stdout",
     "output_type": "stream",
     "text": [
      "name                            object\n",
      "online_order                    object\n",
      "book_table                      object\n",
      "Rating                         float64\n",
      "votes                            int32\n",
      "location                        object\n",
      "rest_type                       object\n",
      "cuisines                        object\n",
      "approx_cost(for two people)      int64\n",
      "listed_in(type)                 object\n",
      "listed_in(city)                 object\n",
      "dtype: object\n"
     ]
    }
   ],
   "source": [
    "print(zomato_data.dtypes)"
   ]
  },
  {
   "cell_type": "code",
   "execution_count": 109,
   "id": "3a9716dc-9568-4129-85a6-489b3b9f9a8e",
   "metadata": {},
   "outputs": [],
   "source": [
    "zomato_data.to_csv('cleaned_zomato_data.csv', index=False)"
   ]
  },
  {
   "cell_type": "markdown",
   "id": "fd3ef2a0-6497-46fc-bb9a-2ddc8ff3beb5",
   "metadata": {},
   "source": [
    "Group data by cuisine and calculate average ratings, votes, and price range."
   ]
  },
  {
   "cell_type": "code",
   "execution_count": 110,
   "id": "13fd750e-9349-4d92-85db-5954cd89a944",
   "metadata": {},
   "outputs": [],
   "source": [
    "grouped_cuisine_data = zomato_data.groupby('cuisines')[['Rating', 'votes', 'approx_cost(for two people)']].mean()"
   ]
  },
  {
   "cell_type": "code",
   "execution_count": 160,
   "id": "967d2884-fb5f-425b-9dde-3d86d8f9d718",
   "metadata": {},
   "outputs": [
    {
     "data": {
      "text/html": [
       "<div>\n",
       "<style scoped>\n",
       "    .dataframe tbody tr th:only-of-type {\n",
       "        vertical-align: middle;\n",
       "    }\n",
       "\n",
       "    .dataframe tbody tr th {\n",
       "        vertical-align: top;\n",
       "    }\n",
       "\n",
       "    .dataframe thead th {\n",
       "        text-align: right;\n",
       "    }\n",
       "</style>\n",
       "<table border=\"1\" class=\"dataframe\">\n",
       "  <thead>\n",
       "    <tr style=\"text-align: right;\">\n",
       "      <th></th>\n",
       "      <th>Rating</th>\n",
       "      <th>votes</th>\n",
       "      <th>approx_cost(for two people)</th>\n",
       "    </tr>\n",
       "    <tr>\n",
       "      <th>cuisines</th>\n",
       "      <th></th>\n",
       "      <th></th>\n",
       "      <th></th>\n",
       "    </tr>\n",
       "  </thead>\n",
       "  <tbody>\n",
       "    <tr>\n",
       "      <th>african,burger</th>\n",
       "      <td>4.590909</td>\n",
       "      <td>457.818182</td>\n",
       "      <td>1000.000000</td>\n",
       "    </tr>\n",
       "    <tr>\n",
       "      <th>african,burger,desserts,beverages,fast food</th>\n",
       "      <td>4.600000</td>\n",
       "      <td>595.000000</td>\n",
       "      <td>1000.000000</td>\n",
       "    </tr>\n",
       "    <tr>\n",
       "      <th>american</th>\n",
       "      <td>3.564286</td>\n",
       "      <td>49.642857</td>\n",
       "      <td>717.857143</td>\n",
       "    </tr>\n",
       "    <tr>\n",
       "      <th>american,asian,continental,north indian,south indian,chinese</th>\n",
       "      <td>4.100000</td>\n",
       "      <td>326.666667</td>\n",
       "      <td>1200.000000</td>\n",
       "    </tr>\n",
       "    <tr>\n",
       "      <th>american,asian,european,north indian</th>\n",
       "      <td>4.300000</td>\n",
       "      <td>3868.750000</td>\n",
       "      <td>1400.000000</td>\n",
       "    </tr>\n",
       "  </tbody>\n",
       "</table>\n",
       "</div>"
      ],
      "text/plain": [
       "                                                      Rating        votes  \\\n",
       "cuisines                                                                    \n",
       "african,burger                                      4.590909   457.818182   \n",
       "african,burger,desserts,beverages,fast food         4.600000   595.000000   \n",
       "american                                            3.564286    49.642857   \n",
       "american,asian,continental,north indian,south i...  4.100000   326.666667   \n",
       "american,asian,european,north indian                4.300000  3868.750000   \n",
       "\n",
       "                                                    approx_cost(for two people)  \n",
       "cuisines                                                                         \n",
       "african,burger                                                      1000.000000  \n",
       "african,burger,desserts,beverages,fast food                         1000.000000  \n",
       "american                                                             717.857143  \n",
       "american,asian,continental,north indian,south i...                  1200.000000  \n",
       "american,asian,european,north indian                                1400.000000  "
      ]
     },
     "execution_count": 160,
     "metadata": {},
     "output_type": "execute_result"
    }
   ],
   "source": [
    "grouped_cuisine_data.head()"
   ]
  },
  {
   "cell_type": "markdown",
   "id": "f4854f4d-abae-4100-b05d-aa6f2607ab62",
   "metadata": {},
   "source": [
    "Identify top cuisines based on ratings and popularity (votes).\n",
    "\n",
    "\n"
   ]
  },
  {
   "cell_type": "code",
   "execution_count": 161,
   "id": "f2ca0fed-3ffb-4ba9-9e88-3863ad2da8ce",
   "metadata": {},
   "outputs": [],
   "source": [
    "top_cuisines = zomato_data.groupby('cuisines')[['Rating', 'votes','name']].agg({'Rating': 'mean','votes': 'sum','name':'count'\n",
    "}).sort_values(by=['Rating','votes'], ascending=False)"
   ]
  },
  {
   "cell_type": "code",
   "execution_count": 162,
   "id": "c5eb16b6-4b62-432a-8195-b4b48a889a88",
   "metadata": {},
   "outputs": [],
   "source": [
    "top_cuisines['restaurant_count'] = zomato_data['cuisines'].value_counts()"
   ]
  },
  {
   "cell_type": "code",
   "execution_count": 163,
   "id": "92997409-74af-4ba7-976d-0b673d6f3683",
   "metadata": {},
   "outputs": [
    {
     "data": {
      "text/html": [
       "<div>\n",
       "<style scoped>\n",
       "    .dataframe tbody tr th:only-of-type {\n",
       "        vertical-align: middle;\n",
       "    }\n",
       "\n",
       "    .dataframe tbody tr th {\n",
       "        vertical-align: top;\n",
       "    }\n",
       "\n",
       "    .dataframe thead th {\n",
       "        text-align: right;\n",
       "    }\n",
       "</style>\n",
       "<table border=\"1\" class=\"dataframe\">\n",
       "  <thead>\n",
       "    <tr style=\"text-align: right;\">\n",
       "      <th></th>\n",
       "      <th>Rating</th>\n",
       "      <th>votes</th>\n",
       "      <th>name</th>\n",
       "      <th>restaurant_count</th>\n",
       "    </tr>\n",
       "    <tr>\n",
       "      <th>cuisines</th>\n",
       "      <th></th>\n",
       "      <th></th>\n",
       "      <th></th>\n",
       "      <th></th>\n",
       "    </tr>\n",
       "  </thead>\n",
       "  <tbody>\n",
       "    <tr>\n",
       "      <th>continental,north indian,italian,south indian,finger food</th>\n",
       "      <td>4.900000</td>\n",
       "      <td>99531</td>\n",
       "      <td>6</td>\n",
       "      <td>6</td>\n",
       "    </tr>\n",
       "    <tr>\n",
       "      <th>asian,chinese,thai,momos</th>\n",
       "      <td>4.900000</td>\n",
       "      <td>42273</td>\n",
       "      <td>19</td>\n",
       "      <td>19</td>\n",
       "    </tr>\n",
       "    <tr>\n",
       "      <th>healthy food,salad,mediterranean</th>\n",
       "      <td>4.900000</td>\n",
       "      <td>246</td>\n",
       "      <td>1</td>\n",
       "      <td>1</td>\n",
       "    </tr>\n",
       "    <tr>\n",
       "      <th>north indian,european,mediterranean,bbq</th>\n",
       "      <td>4.800000</td>\n",
       "      <td>35637</td>\n",
       "      <td>5</td>\n",
       "      <td>5</td>\n",
       "    </tr>\n",
       "    <tr>\n",
       "      <th>asian,mediterranean,north indian,bbq</th>\n",
       "      <td>4.800000</td>\n",
       "      <td>29956</td>\n",
       "      <td>6</td>\n",
       "      <td>6</td>\n",
       "    </tr>\n",
       "    <tr>\n",
       "      <th>continental,north indian,chinese,european,bbq,finger food,asian</th>\n",
       "      <td>4.800000</td>\n",
       "      <td>4910</td>\n",
       "      <td>10</td>\n",
       "      <td>10</td>\n",
       "    </tr>\n",
       "    <tr>\n",
       "      <th>european,mediterranean,north indian,bbq</th>\n",
       "      <td>4.789474</td>\n",
       "      <td>86418</td>\n",
       "      <td>19</td>\n",
       "      <td>19</td>\n",
       "    </tr>\n",
       "    <tr>\n",
       "      <th>american,tex-mex,burger,bbq,mexican</th>\n",
       "      <td>4.750000</td>\n",
       "      <td>48619</td>\n",
       "      <td>8</td>\n",
       "      <td>8</td>\n",
       "    </tr>\n",
       "    <tr>\n",
       "      <th>north indian,european,mediterranean</th>\n",
       "      <td>4.700000</td>\n",
       "      <td>136485</td>\n",
       "      <td>13</td>\n",
       "      <td>13</td>\n",
       "    </tr>\n",
       "    <tr>\n",
       "      <th>continental,european,bbq,chinese,asian</th>\n",
       "      <td>4.700000</td>\n",
       "      <td>34933</td>\n",
       "      <td>5</td>\n",
       "      <td>5</td>\n",
       "    </tr>\n",
       "  </tbody>\n",
       "</table>\n",
       "</div>"
      ],
      "text/plain": [
       "                                                      Rating   votes  name  \\\n",
       "cuisines                                                                     \n",
       "continental,north indian,italian,south indian,f...  4.900000   99531     6   \n",
       "asian,chinese,thai,momos                            4.900000   42273    19   \n",
       "healthy food,salad,mediterranean                    4.900000     246     1   \n",
       "north indian,european,mediterranean,bbq             4.800000   35637     5   \n",
       "asian,mediterranean,north indian,bbq                4.800000   29956     6   \n",
       "continental,north indian,chinese,european,bbq,f...  4.800000    4910    10   \n",
       "european,mediterranean,north indian,bbq             4.789474   86418    19   \n",
       "american,tex-mex,burger,bbq,mexican                 4.750000   48619     8   \n",
       "north indian,european,mediterranean                 4.700000  136485    13   \n",
       "continental,european,bbq,chinese,asian              4.700000   34933     5   \n",
       "\n",
       "                                                    restaurant_count  \n",
       "cuisines                                                              \n",
       "continental,north indian,italian,south indian,f...                 6  \n",
       "asian,chinese,thai,momos                                          19  \n",
       "healthy food,salad,mediterranean                                   1  \n",
       "north indian,european,mediterranean,bbq                            5  \n",
       "asian,mediterranean,north indian,bbq                               6  \n",
       "continental,north indian,chinese,european,bbq,f...                10  \n",
       "european,mediterranean,north indian,bbq                           19  \n",
       "american,tex-mex,burger,bbq,mexican                                8  \n",
       "north indian,european,mediterranean                               13  \n",
       "continental,european,bbq,chinese,asian                             5  "
      ]
     },
     "execution_count": 163,
     "metadata": {},
     "output_type": "execute_result"
    }
   ],
   "source": [
    "top_cuisines.head(10)"
   ]
  },
  {
   "cell_type": "code",
   "execution_count": 164,
   "id": "97a1cd7f-f11f-4d3f-8c5e-5dda906c9ccd",
   "metadata": {},
   "outputs": [],
   "source": [
    "top_cuisines_votes = zomato_data.groupby('cuisines')[['Rating', 'votes']].agg({\n",
    "    'Rating': 'mean',\n",
    "    'votes': 'sum'\n",
    "})"
   ]
  },
  {
   "cell_type": "code",
   "execution_count": 165,
   "id": "785c61e6-f14b-43cb-8638-245bbf32e95e",
   "metadata": {},
   "outputs": [],
   "source": [
    "top_cuisines_votes['popularity_score'] = top_cuisines_votes['Rating'] * top_cuisines_votes['votes']"
   ]
  },
  {
   "cell_type": "code",
   "execution_count": 166,
   "id": "e28798b3-715b-4b90-aa6e-d36f961c1adc",
   "metadata": {},
   "outputs": [
    {
     "data": {
      "text/html": [
       "<div>\n",
       "<style scoped>\n",
       "    .dataframe tbody tr th:only-of-type {\n",
       "        vertical-align: middle;\n",
       "    }\n",
       "\n",
       "    .dataframe tbody tr th {\n",
       "        vertical-align: top;\n",
       "    }\n",
       "\n",
       "    .dataframe thead th {\n",
       "        text-align: right;\n",
       "    }\n",
       "</style>\n",
       "<table border=\"1\" class=\"dataframe\">\n",
       "  <thead>\n",
       "    <tr style=\"text-align: right;\">\n",
       "      <th></th>\n",
       "      <th>Rating</th>\n",
       "      <th>votes</th>\n",
       "      <th>popularity_score</th>\n",
       "    </tr>\n",
       "    <tr>\n",
       "      <th>cuisines</th>\n",
       "      <th></th>\n",
       "      <th></th>\n",
       "      <th></th>\n",
       "    </tr>\n",
       "  </thead>\n",
       "  <tbody>\n",
       "    <tr>\n",
       "      <th>african,burger</th>\n",
       "      <td>4.590909</td>\n",
       "      <td>5036</td>\n",
       "      <td>23119.818182</td>\n",
       "    </tr>\n",
       "    <tr>\n",
       "      <th>african,burger,desserts,beverages,fast food</th>\n",
       "      <td>4.600000</td>\n",
       "      <td>1190</td>\n",
       "      <td>5474.000000</td>\n",
       "    </tr>\n",
       "    <tr>\n",
       "      <th>american</th>\n",
       "      <td>3.564286</td>\n",
       "      <td>695</td>\n",
       "      <td>2477.178571</td>\n",
       "    </tr>\n",
       "    <tr>\n",
       "      <th>american,asian,continental,north indian,south indian,chinese</th>\n",
       "      <td>4.100000</td>\n",
       "      <td>3920</td>\n",
       "      <td>16072.000000</td>\n",
       "    </tr>\n",
       "    <tr>\n",
       "      <th>american,asian,european,north indian</th>\n",
       "      <td>4.300000</td>\n",
       "      <td>30950</td>\n",
       "      <td>133085.000000</td>\n",
       "    </tr>\n",
       "  </tbody>\n",
       "</table>\n",
       "</div>"
      ],
      "text/plain": [
       "                                                      Rating  votes  \\\n",
       "cuisines                                                              \n",
       "african,burger                                      4.590909   5036   \n",
       "african,burger,desserts,beverages,fast food         4.600000   1190   \n",
       "american                                            3.564286    695   \n",
       "american,asian,continental,north indian,south i...  4.100000   3920   \n",
       "american,asian,european,north indian                4.300000  30950   \n",
       "\n",
       "                                                    popularity_score  \n",
       "cuisines                                                              \n",
       "african,burger                                          23119.818182  \n",
       "african,burger,desserts,beverages,fast food              5474.000000  \n",
       "american                                                 2477.178571  \n",
       "american,asian,continental,north indian,south i...      16072.000000  \n",
       "american,asian,european,north indian                   133085.000000  "
      ]
     },
     "execution_count": 166,
     "metadata": {},
     "output_type": "execute_result"
    }
   ],
   "source": [
    "top_cuisines_votes.head()"
   ]
  },
  {
   "cell_type": "markdown",
   "id": "7ac645fc-5ef4-4129-981e-b40322037a8b",
   "metadata": {},
   "source": [
    "Highlight best-rated restaurants and link them to their cuisine types."
   ]
  },
  {
   "cell_type": "code",
   "execution_count": 167,
   "id": "83018ae9-32d3-467c-94c5-f7541e875e09",
   "metadata": {},
   "outputs": [
    {
     "data": {
      "text/html": [
       "<div>\n",
       "<style scoped>\n",
       "    .dataframe tbody tr th:only-of-type {\n",
       "        vertical-align: middle;\n",
       "    }\n",
       "\n",
       "    .dataframe tbody tr th {\n",
       "        vertical-align: top;\n",
       "    }\n",
       "\n",
       "    .dataframe thead th {\n",
       "        text-align: right;\n",
       "    }\n",
       "</style>\n",
       "<table border=\"1\" class=\"dataframe\">\n",
       "  <thead>\n",
       "    <tr style=\"text-align: right;\">\n",
       "      <th></th>\n",
       "      <th>name</th>\n",
       "      <th>cuisines</th>\n",
       "      <th>Rating</th>\n",
       "      <th>votes</th>\n",
       "    </tr>\n",
       "  </thead>\n",
       "  <tbody>\n",
       "    <tr>\n",
       "      <th>39351</th>\n",
       "      <td>Byg Brewski Brewing Company</td>\n",
       "      <td>continental,north indian,italian,south indian,...</td>\n",
       "      <td>4.9</td>\n",
       "      <td>16832</td>\n",
       "    </tr>\n",
       "    <tr>\n",
       "      <th>39677</th>\n",
       "      <td>Byg Brewski Brewing Company</td>\n",
       "      <td>continental,north indian,italian,south indian,...</td>\n",
       "      <td>4.9</td>\n",
       "      <td>16832</td>\n",
       "    </tr>\n",
       "    <tr>\n",
       "      <th>40027</th>\n",
       "      <td>Byg Brewski Brewing Company</td>\n",
       "      <td>continental,north indian,italian,south indian,...</td>\n",
       "      <td>4.9</td>\n",
       "      <td>16832</td>\n",
       "    </tr>\n",
       "    <tr>\n",
       "      <th>3172</th>\n",
       "      <td>Byg Brewski Brewing Company</td>\n",
       "      <td>continental,north indian,italian,south indian,...</td>\n",
       "      <td>4.9</td>\n",
       "      <td>16345</td>\n",
       "    </tr>\n",
       "    <tr>\n",
       "      <th>3825</th>\n",
       "      <td>Byg Brewski Brewing Company</td>\n",
       "      <td>continental,north indian,italian,south indian,...</td>\n",
       "      <td>4.9</td>\n",
       "      <td>16345</td>\n",
       "    </tr>\n",
       "    <tr>\n",
       "      <th>3936</th>\n",
       "      <td>Byg Brewski Brewing Company</td>\n",
       "      <td>continental,north indian,italian,south indian,...</td>\n",
       "      <td>4.9</td>\n",
       "      <td>16345</td>\n",
       "    </tr>\n",
       "    <tr>\n",
       "      <th>29464</th>\n",
       "      <td>AB's - Absolute Barbecues</td>\n",
       "      <td>european,mediterranean,north indian,bbq</td>\n",
       "      <td>4.9</td>\n",
       "      <td>6490</td>\n",
       "    </tr>\n",
       "    <tr>\n",
       "      <th>16887</th>\n",
       "      <td>AB's - Absolute Barbecues</td>\n",
       "      <td>european,mediterranean,north indian,bbq</td>\n",
       "      <td>4.9</td>\n",
       "      <td>6452</td>\n",
       "    </tr>\n",
       "    <tr>\n",
       "      <th>15341</th>\n",
       "      <td>AB's - Absolute Barbecues</td>\n",
       "      <td>european,mediterranean,north indian,bbq</td>\n",
       "      <td>4.9</td>\n",
       "      <td>6404</td>\n",
       "    </tr>\n",
       "    <tr>\n",
       "      <th>17265</th>\n",
       "      <td>AB's - Absolute Barbecues</td>\n",
       "      <td>european,mediterranean,north indian,bbq</td>\n",
       "      <td>4.9</td>\n",
       "      <td>6404</td>\n",
       "    </tr>\n",
       "  </tbody>\n",
       "</table>\n",
       "</div>"
      ],
      "text/plain": [
       "                              name  \\\n",
       "39351  Byg Brewski Brewing Company   \n",
       "39677  Byg Brewski Brewing Company   \n",
       "40027  Byg Brewski Brewing Company   \n",
       "3172   Byg Brewski Brewing Company   \n",
       "3825   Byg Brewski Brewing Company   \n",
       "3936   Byg Brewski Brewing Company   \n",
       "29464    AB's - Absolute Barbecues   \n",
       "16887    AB's - Absolute Barbecues   \n",
       "15341    AB's - Absolute Barbecues   \n",
       "17265    AB's - Absolute Barbecues   \n",
       "\n",
       "                                                cuisines  Rating  votes  \n",
       "39351  continental,north indian,italian,south indian,...     4.9  16832  \n",
       "39677  continental,north indian,italian,south indian,...     4.9  16832  \n",
       "40027  continental,north indian,italian,south indian,...     4.9  16832  \n",
       "3172   continental,north indian,italian,south indian,...     4.9  16345  \n",
       "3825   continental,north indian,italian,south indian,...     4.9  16345  \n",
       "3936   continental,north indian,italian,south indian,...     4.9  16345  \n",
       "29464            european,mediterranean,north indian,bbq     4.9   6490  \n",
       "16887            european,mediterranean,north indian,bbq     4.9   6452  \n",
       "15341            european,mediterranean,north indian,bbq     4.9   6404  \n",
       "17265            european,mediterranean,north indian,bbq     4.9   6404  "
      ]
     },
     "execution_count": 167,
     "metadata": {},
     "output_type": "execute_result"
    }
   ],
   "source": [
    "best_restro=zomato_data[['name','cuisines','Rating','votes']].sort_values(by=['Rating','votes'],ascending=[False,False])\n",
    "best_restro.head(10)"
   ]
  },
  {
   "cell_type": "markdown",
   "id": "0b9812a2-2190-4293-bf91-51a06b5e0aba",
   "metadata": {},
   "source": [
    "Analyse and generate insights into user preferences by cuisine."
   ]
  },
  {
   "cell_type": "markdown",
   "id": "0307adb5-1cbc-4e2c-867f-e9bdf6f1cc48",
   "metadata": {},
   "source": [
    "#### 1.Premium but Popular Cuisines\n",
    "#### (High rating & votes, but also expensive)"
   ]
  },
  {
   "cell_type": "code",
   "execution_count": 168,
   "id": "0fcccd52-a213-48e7-acde-220b58893cb9",
   "metadata": {},
   "outputs": [],
   "source": [
    "cuisine_stats = zomato_data.groupby('cuisines').agg({\n",
    "    'Rating': 'mean',\n",
    "    'votes': 'sum',\n",
    "    'approx_cost(for two people)': 'mean'\n",
    "})"
   ]
  },
  {
   "cell_type": "code",
   "execution_count": 169,
   "id": "7bde912a-5455-43b5-9cca-e93b4c9ee486",
   "metadata": {},
   "outputs": [],
   "source": [
    "cuisine_stats['preference_score'] = (\n",
    "    cuisine_stats['Rating'] * cuisine_stats['votes'] / cuisine_stats['approx_cost(for two people)']\n",
    ")"
   ]
  },
  {
   "cell_type": "code",
   "execution_count": 170,
   "id": "1fe94083-ad32-4c52-bb73-d9db5c6f5c03",
   "metadata": {},
   "outputs": [
    {
     "data": {
      "text/html": [
       "<div>\n",
       "<style scoped>\n",
       "    .dataframe tbody tr th:only-of-type {\n",
       "        vertical-align: middle;\n",
       "    }\n",
       "\n",
       "    .dataframe tbody tr th {\n",
       "        vertical-align: top;\n",
       "    }\n",
       "\n",
       "    .dataframe thead th {\n",
       "        text-align: right;\n",
       "    }\n",
       "</style>\n",
       "<table border=\"1\" class=\"dataframe\">\n",
       "  <thead>\n",
       "    <tr style=\"text-align: right;\">\n",
       "      <th></th>\n",
       "      <th>Rating</th>\n",
       "      <th>votes</th>\n",
       "      <th>approx_cost(for two people)</th>\n",
       "      <th>preference_score</th>\n",
       "    </tr>\n",
       "    <tr>\n",
       "      <th>cuisines</th>\n",
       "      <th></th>\n",
       "      <th></th>\n",
       "      <th></th>\n",
       "      <th></th>\n",
       "    </tr>\n",
       "  </thead>\n",
       "  <tbody>\n",
       "    <tr>\n",
       "      <th>african,burger</th>\n",
       "      <td>4.590909</td>\n",
       "      <td>5036</td>\n",
       "      <td>1000.000000</td>\n",
       "      <td>23.119818</td>\n",
       "    </tr>\n",
       "    <tr>\n",
       "      <th>african,burger,desserts,beverages,fast food</th>\n",
       "      <td>4.600000</td>\n",
       "      <td>1190</td>\n",
       "      <td>1000.000000</td>\n",
       "      <td>5.474000</td>\n",
       "    </tr>\n",
       "    <tr>\n",
       "      <th>american</th>\n",
       "      <td>3.564286</td>\n",
       "      <td>695</td>\n",
       "      <td>717.857143</td>\n",
       "      <td>3.450796</td>\n",
       "    </tr>\n",
       "    <tr>\n",
       "      <th>american,asian,continental,north indian,south indian,chinese</th>\n",
       "      <td>4.100000</td>\n",
       "      <td>3920</td>\n",
       "      <td>1200.000000</td>\n",
       "      <td>13.393333</td>\n",
       "    </tr>\n",
       "    <tr>\n",
       "      <th>american,asian,european,north indian</th>\n",
       "      <td>4.300000</td>\n",
       "      <td>30950</td>\n",
       "      <td>1400.000000</td>\n",
       "      <td>95.060714</td>\n",
       "    </tr>\n",
       "  </tbody>\n",
       "</table>\n",
       "</div>"
      ],
      "text/plain": [
       "                                                      Rating  votes  \\\n",
       "cuisines                                                              \n",
       "african,burger                                      4.590909   5036   \n",
       "african,burger,desserts,beverages,fast food         4.600000   1190   \n",
       "american                                            3.564286    695   \n",
       "american,asian,continental,north indian,south i...  4.100000   3920   \n",
       "american,asian,european,north indian                4.300000  30950   \n",
       "\n",
       "                                                    approx_cost(for two people)  \\\n",
       "cuisines                                                                          \n",
       "african,burger                                                      1000.000000   \n",
       "african,burger,desserts,beverages,fast food                         1000.000000   \n",
       "american                                                             717.857143   \n",
       "american,asian,continental,north indian,south i...                  1200.000000   \n",
       "american,asian,european,north indian                                1400.000000   \n",
       "\n",
       "                                                    preference_score  \n",
       "cuisines                                                              \n",
       "african,burger                                             23.119818  \n",
       "african,burger,desserts,beverages,fast food                 5.474000  \n",
       "american                                                    3.450796  \n",
       "american,asian,continental,north indian,south i...         13.393333  \n",
       "american,asian,european,north indian                       95.060714  "
      ]
     },
     "execution_count": 170,
     "metadata": {},
     "output_type": "execute_result"
    }
   ],
   "source": [
    "cuisine_stats.head()"
   ]
  },
  {
   "cell_type": "markdown",
   "id": "59d37774-1ce7-4d01-9ce7-78a77f8a5713",
   "metadata": {},
   "source": [
    "#### 2.Affordable Favorites\n",
    "#### (Low cost, high rating, high votes)"
   ]
  },
  {
   "cell_type": "code",
   "execution_count": 171,
   "id": "70980ba7-2a73-45c3-ab6d-6d2675e0cbfe",
   "metadata": {},
   "outputs": [],
   "source": [
    "affordable_favorites = cuisine_stats[\n",
    "    (cuisine_stats['approx_cost(for two people)'] < 1000) &\n",
    "    (cuisine_stats['Rating'] > 4.0) &\n",
    "    (cuisine_stats['votes'] > 100000)\n",
    "].sort_values(by='preference_score', ascending=False)"
   ]
  },
  {
   "cell_type": "code",
   "execution_count": 172,
   "id": "bfa66d83-421f-4951-bb32-cefc97814956",
   "metadata": {},
   "outputs": [
    {
     "data": {
      "text/html": [
       "<div>\n",
       "<style scoped>\n",
       "    .dataframe tbody tr th:only-of-type {\n",
       "        vertical-align: middle;\n",
       "    }\n",
       "\n",
       "    .dataframe tbody tr th {\n",
       "        vertical-align: top;\n",
       "    }\n",
       "\n",
       "    .dataframe thead th {\n",
       "        text-align: right;\n",
       "    }\n",
       "</style>\n",
       "<table border=\"1\" class=\"dataframe\">\n",
       "  <thead>\n",
       "    <tr style=\"text-align: right;\">\n",
       "      <th></th>\n",
       "      <th>Rating</th>\n",
       "      <th>votes</th>\n",
       "      <th>approx_cost(for two people)</th>\n",
       "      <th>preference_score</th>\n",
       "    </tr>\n",
       "    <tr>\n",
       "      <th>cuisines</th>\n",
       "      <th></th>\n",
       "      <th></th>\n",
       "      <th></th>\n",
       "      <th></th>\n",
       "    </tr>\n",
       "  </thead>\n",
       "  <tbody>\n",
       "    <tr>\n",
       "      <th>pizza,cafe,italian</th>\n",
       "      <td>4.410588</td>\n",
       "      <td>347520</td>\n",
       "      <td>600.0</td>\n",
       "      <td>2554.612706</td>\n",
       "    </tr>\n",
       "    <tr>\n",
       "      <th>cafe,american,burger,steak</th>\n",
       "      <td>4.595349</td>\n",
       "      <td>301059</td>\n",
       "      <td>900.0</td>\n",
       "      <td>1537.190140</td>\n",
       "    </tr>\n",
       "    <tr>\n",
       "      <th>north indian,mughlai,south indian,chinese</th>\n",
       "      <td>4.094643</td>\n",
       "      <td>227930</td>\n",
       "      <td>750.0</td>\n",
       "      <td>1244.389262</td>\n",
       "    </tr>\n",
       "    <tr>\n",
       "      <th>cafe,italian,burger,american,steak</th>\n",
       "      <td>4.172222</td>\n",
       "      <td>102877</td>\n",
       "      <td>650.0</td>\n",
       "      <td>660.347239</td>\n",
       "    </tr>\n",
       "  </tbody>\n",
       "</table>\n",
       "</div>"
      ],
      "text/plain": [
       "                                             Rating   votes  \\\n",
       "cuisines                                                      \n",
       "pizza,cafe,italian                         4.410588  347520   \n",
       "cafe,american,burger,steak                 4.595349  301059   \n",
       "north indian,mughlai,south indian,chinese  4.094643  227930   \n",
       "cafe,italian,burger,american,steak         4.172222  102877   \n",
       "\n",
       "                                           approx_cost(for two people)  \\\n",
       "cuisines                                                                 \n",
       "pizza,cafe,italian                                               600.0   \n",
       "cafe,american,burger,steak                                       900.0   \n",
       "north indian,mughlai,south indian,chinese                        750.0   \n",
       "cafe,italian,burger,american,steak                               650.0   \n",
       "\n",
       "                                           preference_score  \n",
       "cuisines                                                     \n",
       "pizza,cafe,italian                              2554.612706  \n",
       "cafe,american,burger,steak                      1537.190140  \n",
       "north indian,mughlai,south indian,chinese       1244.389262  \n",
       "cafe,italian,burger,american,steak               660.347239  "
      ]
     },
     "execution_count": 172,
     "metadata": {},
     "output_type": "execute_result"
    }
   ],
   "source": [
    "affordable_favorites.head()"
   ]
  },
  {
   "cell_type": "markdown",
   "id": "d43f838f-511f-4996-8bd5-70730b7a1e48",
   "metadata": {},
   "source": [
    "#### 3.Most Preferred Cuisine"
   ]
  },
  {
   "cell_type": "code",
   "execution_count": 173,
   "id": "bc99ce31-f776-4911-8cbd-09deb83fe843",
   "metadata": {},
   "outputs": [
    {
     "data": {
      "text/html": [
       "<div>\n",
       "<style scoped>\n",
       "    .dataframe tbody tr th:only-of-type {\n",
       "        vertical-align: middle;\n",
       "    }\n",
       "\n",
       "    .dataframe tbody tr th {\n",
       "        vertical-align: top;\n",
       "    }\n",
       "\n",
       "    .dataframe thead th {\n",
       "        text-align: right;\n",
       "    }\n",
       "</style>\n",
       "<table border=\"1\" class=\"dataframe\">\n",
       "  <thead>\n",
       "    <tr style=\"text-align: right;\">\n",
       "      <th></th>\n",
       "      <th>Rating</th>\n",
       "      <th>votes</th>\n",
       "      <th>approx_cost(for two people)</th>\n",
       "      <th>preference_score</th>\n",
       "    </tr>\n",
       "    <tr>\n",
       "      <th>cuisines</th>\n",
       "      <th></th>\n",
       "      <th></th>\n",
       "      <th></th>\n",
       "      <th></th>\n",
       "    </tr>\n",
       "  </thead>\n",
       "  <tbody>\n",
       "    <tr>\n",
       "      <th>north indian</th>\n",
       "      <td>3.587328</td>\n",
       "      <td>516306</td>\n",
       "      <td>531.205505</td>\n",
       "      <td>3486.708868</td>\n",
       "    </tr>\n",
       "    <tr>\n",
       "      <th>pizza,cafe,italian</th>\n",
       "      <td>4.410588</td>\n",
       "      <td>347520</td>\n",
       "      <td>600.000000</td>\n",
       "      <td>2554.612706</td>\n",
       "    </tr>\n",
       "    <tr>\n",
       "      <th>south indian</th>\n",
       "      <td>3.630057</td>\n",
       "      <td>161645</td>\n",
       "      <td>261.023558</td>\n",
       "      <td>2247.998403</td>\n",
       "    </tr>\n",
       "    <tr>\n",
       "      <th>north indian,chinese</th>\n",
       "      <td>3.412109</td>\n",
       "      <td>258225</td>\n",
       "      <td>515.726013</td>\n",
       "      <td>1708.449381</td>\n",
       "    </tr>\n",
       "    <tr>\n",
       "      <th>cafe,american,burger,steak</th>\n",
       "      <td>4.595349</td>\n",
       "      <td>301059</td>\n",
       "      <td>900.000000</td>\n",
       "      <td>1537.190140</td>\n",
       "    </tr>\n",
       "  </tbody>\n",
       "</table>\n",
       "</div>"
      ],
      "text/plain": [
       "                              Rating   votes  approx_cost(for two people)  \\\n",
       "cuisines                                                                    \n",
       "north indian                3.587328  516306                   531.205505   \n",
       "pizza,cafe,italian          4.410588  347520                   600.000000   \n",
       "south indian                3.630057  161645                   261.023558   \n",
       "north indian,chinese        3.412109  258225                   515.726013   \n",
       "cafe,american,burger,steak  4.595349  301059                   900.000000   \n",
       "\n",
       "                            preference_score  \n",
       "cuisines                                      \n",
       "north indian                     3486.708868  \n",
       "pizza,cafe,italian               2554.612706  \n",
       "south indian                     2247.998403  \n",
       "north indian,chinese             1708.449381  \n",
       "cafe,american,burger,steak       1537.190140  "
      ]
     },
     "execution_count": 173,
     "metadata": {},
     "output_type": "execute_result"
    }
   ],
   "source": [
    "most_preferred = cuisine_stats.sort_values(by='preference_score', ascending=False)\n",
    "most_preferred.head()"
   ]
  },
  {
   "cell_type": "markdown",
   "id": "db75e1db-e789-45e5-bb68-a41ee90807d7",
   "metadata": {},
   "source": [
    "Visualise key findings using Matplotlib.\n",
    "\n",
    "\n"
   ]
  },
  {
   "cell_type": "code",
   "execution_count": 174,
   "id": "9eaa8d44-7421-4ac0-ad48-b9bac2770a01",
   "metadata": {},
   "outputs": [
    {
     "data": {
      "image/png": "[encoded data removed]",
      "text/plain": [
       "<Figure size 1200x600 with 1 Axes>"
      ]
     },
     "metadata": {},
     "output_type": "display_data"
    }
   ],
   "source": [
    "top_10_by_rating = top_cuisines.sort_values(by='Rating', ascending=False).head(10)\n",
    "\n",
    "plt.figure(figsize=(12,6))\n",
    "plt.barh(top_10_by_rating.index[::-1], top_10_by_rating['Rating'][::-1], color='skyblue')\n",
    "plt.xlabel('Average Rating')\n",
    "plt.title('Top 10 Cuisines by Average Rating')\n",
    "plt.grid(axis='x', linestyle='--', alpha=0.7)\n",
    "plt.show()"
   ]
  },
  {
   "cell_type": "code",
   "execution_count": 175,
   "id": "f8442bd3-944b-4806-a4d2-8582e871270a",
   "metadata": {},
   "outputs": [
    {
     "data": {
      "image/png": "[encoded data removed]",
      "text/plain": [
       "<Figure size 1200x600 with 1 Axes>"
      ]
     },
     "metadata": {},
     "output_type": "display_data"
    }
   ],
   "source": [
    "top_10_by_votes = top_cuisines.sort_values(by='votes', ascending=False).head(10)\n",
    "\n",
    "plt.figure(figsize=(12,6))\n",
    "plt.barh(top_10_by_votes.index[::-1], top_10_by_votes['votes'][::-1], color='orange')\n",
    "plt.xlabel('Total Votes')\n",
    "plt.title('Top 10 Most Popular Cuisines (by Votes)')\n",
    "plt.grid(axis='x', linestyle='--', alpha=0.7)\n",
    "plt.show()\n"
   ]
  },
  {
   "cell_type": "code",
   "execution_count": 176,
   "id": "dbd1e13f-8f23-4b2b-95ee-21951366f8bf",
   "metadata": {},
   "outputs": [
    {
     "data": {
      "image/png": "[encoded data removed]",
      "text/plain": [
       "<Figure size 1200x600 with 1 Axes>"
      ]
     },
     "metadata": {},
     "output_type": "display_data"
    }
   ],
   "source": [
    "top_10_by_count = top_cuisines.sort_values(by='restaurant_count', ascending=False).head(10)\n",
    "\n",
    "plt.figure(figsize=(12,6))\n",
    "plt.barh(top_10_by_count.index[::-1], top_10_by_count['restaurant_count'][::-1], color='lightgreen')\n",
    "plt.xlabel('Number of Restaurants')\n",
    "plt.title('Top 10 Cuisines by Number of Restaurants')\n",
    "plt.grid(axis='x', linestyle='--', alpha=0.7)\n",
    "plt.show()\n"
   ]
  },
  {
   "cell_type": "code",
   "execution_count": 177,
   "id": "72f1e0f6-a502-4a84-a2e0-92b532f2c942",
   "metadata": {},
   "outputs": [
    {
     "data": {
      "image/png": "[encoded data removed]",
      "text/plain": [
       "<Figure size 1200x600 with 1 Axes>"
      ]
     },
     "metadata": {},
     "output_type": "display_data"
    }
   ],
   "source": [
    "top_10_restro = best_restro.head(10)\n",
    "\n",
    "plt.figure(figsize=(12,6))\n",
    "plt.barh(top_10_restro['name'][::-1], top_10_restro['Rating'][::-1], color='purple')\n",
    "plt.xlabel('Rating')\n",
    "plt.title('Top 10 Best-Rated Restaurants')\n",
    "plt.grid(axis='x', linestyle='--', alpha=0.7)\n",
    "plt.show()\n"
   ]
  },
  {
   "cell_type": "code",
   "execution_count": null,
   "id": "dadae13c-c953-4e43-85af-3aef65b6a245",
   "metadata": {},
   "outputs": [],
   "source": []
  }
 ],
 "metadata": {
  "kernelspec": {
   "display_name": "Python 3 (ipykernel)",
   "language": "python",
   "name": "python3"
  },
  "language_info": {
   "codemirror_mode": {
    "name": "ipython",
    "version": 3
   },
   "file_extension": ".py",
   "mimetype": "text/x-python",
   "name": "python",
   "nbconvert_exporter": "python",
   "pygments_lexer": "ipython3",
   "version": "3.12.7"
  }
 },
 "nbformat": 4,
 "nbformat_minor": 5
}
